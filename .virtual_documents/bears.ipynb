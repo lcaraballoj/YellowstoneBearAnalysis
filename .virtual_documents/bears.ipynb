import numpy as np
import matplotlib.pyplot as pp
import pandas as pd
import seaborn








pandas.read_csv(Bears.csv)
