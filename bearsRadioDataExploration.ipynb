{
 "cells": [
  {
   "cell_type": "code",
   "execution_count": 8,
   "id": "5588eacd-6cf9-438d-926d-a58cc1300bb8",
   "metadata": {},
   "outputs": [],
   "source": [
    "import pandas as pd\n",
    "import numpy as np\n",
    "import matplotlib.pylab as plt\n",
    "import seaborn as sns\n",
    "plt.style.use('ggplot')"
   ]
  },
  {
   "cell_type": "code",
   "execution_count": 16,
   "id": "ea893bb3-4091-41ec-8a0a-8f6f9969900e",
   "metadata": {},
   "outputs": [],
   "source": [
    "bearsRadio = pd.read_csv('bearRadio.csv')"
   ]
  },
  {
   "cell_type": "code",
   "execution_count": 10,
   "id": "82a50a44-7bf7-40e4-83dc-0e9749a9bdf2",
   "metadata": {},
   "outputs": [
    {
     "data": {
      "text/plain": [
       "(2272, 9)"
      ]
     },
     "execution_count": 10,
     "metadata": {},
     "output_type": "execute_result"
    }
   ],
   "source": [
    "bearsRadio.shape"
   ]
  },
  {
   "cell_type": "code",
   "execution_count": 11,
   "id": "af861be2-a6a3-44c7-b6d1-b407bd3a32ea",
   "metadata": {},
   "outputs": [
    {
     "data": {
      "text/html": [
       "<div>\n",
       "<style scoped>\n",
       "    .dataframe tbody tr th:only-of-type {\n",
       "        vertical-align: middle;\n",
       "    }\n",
       "\n",
       "    .dataframe tbody tr th {\n",
       "        vertical-align: top;\n",
       "    }\n",
       "\n",
       "    .dataframe thead th {\n",
       "        text-align: right;\n",
       "    }\n",
       "</style>\n",
       "<table border=\"1\" class=\"dataframe\">\n",
       "  <thead>\n",
       "    <tr style=\"text-align: right;\">\n",
       "      <th></th>\n",
       "      <th>Bear</th>\n",
       "      <th>Sex</th>\n",
       "      <th>Age</th>\n",
       "      <th>Offspring</th>\n",
       "      <th>Out of den</th>\n",
       "      <th>Into den</th>\n",
       "      <th>Current status</th>\n",
       "      <th>Transported</th>\n",
       "      <th>Year</th>\n",
       "    </tr>\n",
       "  </thead>\n",
       "  <tbody>\n",
       "    <tr>\n",
       "      <th>0</th>\n",
       "      <td>314</td>\n",
       "      <td>Male</td>\n",
       "      <td>Adult</td>\n",
       "      <td>NaN</td>\n",
       "      <td>No</td>\n",
       "      <td>No</td>\n",
       "      <td>Vehicle strike-dead</td>\n",
       "      <td>NaN</td>\n",
       "      <td>2022</td>\n",
       "    </tr>\n",
       "    <tr>\n",
       "      <th>1</th>\n",
       "      <td>373</td>\n",
       "      <td>Male</td>\n",
       "      <td>Adult</td>\n",
       "      <td>NaN</td>\n",
       "      <td>No</td>\n",
       "      <td>Yes</td>\n",
       "      <td>Active</td>\n",
       "      <td>NaN</td>\n",
       "      <td>2022</td>\n",
       "    </tr>\n",
       "    <tr>\n",
       "      <th>2</th>\n",
       "      <td>409</td>\n",
       "      <td>Female</td>\n",
       "      <td>Adult</td>\n",
       "      <td>3 yearlings, 1 lost</td>\n",
       "      <td>Yes</td>\n",
       "      <td>No</td>\n",
       "      <td>Cast</td>\n",
       "      <td>NaN</td>\n",
       "      <td>2022</td>\n",
       "    </tr>\n",
       "    <tr>\n",
       "      <th>3</th>\n",
       "      <td>419</td>\n",
       "      <td>Male</td>\n",
       "      <td>Adult</td>\n",
       "      <td>NaN</td>\n",
       "      <td>No</td>\n",
       "      <td>Yes</td>\n",
       "      <td>Active</td>\n",
       "      <td>NaN</td>\n",
       "      <td>2022</td>\n",
       "    </tr>\n",
       "    <tr>\n",
       "      <th>4</th>\n",
       "      <td>424</td>\n",
       "      <td>Male</td>\n",
       "      <td>Adult</td>\n",
       "      <td>NaN</td>\n",
       "      <td>Yes</td>\n",
       "      <td>No</td>\n",
       "      <td>Cast</td>\n",
       "      <td>NaN</td>\n",
       "      <td>2022</td>\n",
       "    </tr>\n",
       "  </tbody>\n",
       "</table>\n",
       "</div>"
      ],
      "text/plain": [
       "   Bear     Sex    Age            Offspring Out of den Into den  \\\n",
       "0   314    Male  Adult                  NaN         No       No   \n",
       "1   373    Male  Adult                  NaN         No      Yes   \n",
       "2   409  Female  Adult  3 yearlings, 1 lost        Yes       No   \n",
       "3   419    Male  Adult                  NaN         No      Yes   \n",
       "4   424    Male  Adult                  NaN        Yes       No   \n",
       "\n",
       "        Current status Transported  Year  \n",
       "0  Vehicle strike-dead         NaN  2022  \n",
       "1               Active         NaN  2022  \n",
       "2                 Cast         NaN  2022  \n",
       "3               Active         NaN  2022  \n",
       "4                 Cast         NaN  2022  "
      ]
     },
     "execution_count": 11,
     "metadata": {},
     "output_type": "execute_result"
    }
   ],
   "source": [
    "bearsRadio.head(5)"
   ]
  },
  {
   "cell_type": "code",
   "execution_count": 13,
   "id": "e4033cb1-269a-4d19-9b50-9bd7b3528166",
   "metadata": {},
   "outputs": [
    {
     "data": {
      "text/plain": [
       "Index(['Bear', 'Sex', 'Age', 'Offspring', 'Out of den', 'Into den',\n",
       "       'Current status', 'Transported', 'Year'],\n",
       "      dtype='object')"
      ]
     },
     "execution_count": 13,
     "metadata": {},
     "output_type": "execute_result"
    }
   ],
   "source": [
    "bearsRadio.columns"
   ]
  },
  {
   "cell_type": "code",
   "execution_count": 14,
   "id": "390e8f57-9041-4ac1-847b-5495a97dc848",
   "metadata": {},
   "outputs": [
    {
     "data": {
      "text/plain": [
       "Bear               int64\n",
       "Sex               object\n",
       "Age               object\n",
       "Offspring         object\n",
       "Out of den        object\n",
       "Into den          object\n",
       "Current status    object\n",
       "Transported       object\n",
       "Year               int64\n",
       "dtype: object"
      ]
     },
     "execution_count": 14,
     "metadata": {},
     "output_type": "execute_result"
    }
   ],
   "source": [
    "bearsRadio.dtypes"
   ]
  },
  {
   "cell_type": "code",
   "execution_count": null,
   "id": "55e6501b-63a0-4754-b599-f5cdaa00fa48",
   "metadata": {},
   "outputs": [],
   "source": []
  }
 ],
 "metadata": {
  "kernelspec": {
   "display_name": "Python 3 (ipykernel)",
   "language": "python",
   "name": "python3"
  },
  "language_info": {
   "codemirror_mode": {
    "name": "ipython",
    "version": 3
   },
   "file_extension": ".py",
   "mimetype": "text/x-python",
   "name": "python",
   "nbconvert_exporter": "python",
   "pygments_lexer": "ipython3",
   "version": "3.9.6"
  }
 },
 "nbformat": 4,
 "nbformat_minor": 5
}
