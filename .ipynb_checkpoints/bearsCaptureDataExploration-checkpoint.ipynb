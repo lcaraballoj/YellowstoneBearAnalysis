{
 "cells": [
  {
   "cell_type": "code",
   "execution_count": 7,
   "id": "438775a3-0949-4671-a94f-20d391e19e1f",
   "metadata": {},
   "outputs": [],
   "source": [
    "import pandas as pd\n",
    "import numpy as np\n",
    "import matplotlib.pylab as plt\n",
    "import seaborn as sns\n",
    "plt.style.use('ggplot')"
   ]
  },
  {
   "cell_type": "markdown",
   "id": "9ef728c9-8605-462b-8b43-63cc5fe298c6",
   "metadata": {},
   "source": [
    "# IGBST Bear Capture Data Exploration"
   ]
  },
  {
   "cell_type": "markdown",
   "id": "bcb7c063-2a1a-4d22-9368-347716502f08",
   "metadata": {},
   "source": [
    "This is the data exploration phase for the Bear Capture data provided in the annual reports by the IGBST, Table 1. There are some abbreviations of note in order to better understand this data.\n",
    "\n",
    "## Notation\n",
    "### Locations\n",
    "- **BDNF**: Beaverhead-Deerlodge National Forest\n",
    "- **BLM**: Bureau of Land Management\n",
    "- **BTNF**: Bridger-Teton National Forest\n",
    "- **CTNF**: Caribou-Targhee National Forest\n",
    "- **CGNF**: Custer Gallatin National Forest\n",
    "- **Crk**: Creek\n",
    "- **GTNP**: Grand Teton National Park\n",
    "- **SNF**: Shoshone National Forest\n",
    "- **YNP** Yellowstone National Park\n",
    "- **WRIR**: Wind River Reservation\n",
    "- **Pr**: Private\n",
    "- **ID, MT, WY**: State abbreviations for Idaho, Montana, and Wyoming respectively\n",
    "  - So *Pr-WY* means private Wyoming\n",
    "\n",
    "\n",
    "### Organizations\n",
    "- **IDFG**: Idaho Department of Fish and Game\n",
    "- **IGBST**: International Grizzly Bear Study Team\n",
    "- **GTNP**: Grand Teton Natiaonl Park\n",
    "- **MTFWP**: Montana Fish, Wildlife, and Parks\n",
    "- **WS**: Wildlife Services\n",
    "- **WYGFD**: Wyoming Game and Fish Department\n",
    "  - There is a variation in the abbreviation throughout the years in the actual annual summaries, but was changed to this one, in Excel, for consistent naming conventions\n",
    "- **WRIR**: Wind River Reservation\n",
    "- **YNP**: Yellowstone National Park"
   ]
  },
  {
   "cell_type": "markdown",
   "id": "43af9d03-1797-45c7-8e1e-0ded78f528f9",
   "metadata": {},
   "source": [
    "## Data Exploration"
   ]
  },
  {
   "cell_type": "code",
   "execution_count": 13,
   "id": "8a6f5d35-c4d3-4c37-a107-c11d212292c2",
   "metadata": {},
   "outputs": [
    {
     "data": {
      "text/plain": [
       "Bear                object\n",
       "Sex                 object\n",
       "Age                 object\n",
       "Date                object\n",
       "General Location    object\n",
       "Capture type        object\n",
       "Release Site        object\n",
       "Handler             object\n",
       "Year                 int64\n",
       "dtype: object"
      ]
     },
     "execution_count": 13,
     "metadata": {},
     "output_type": "execute_result"
    }
   ],
   "source": [
    "bearCapture = pd.read_csv('bearCapture.csv') # Read CSV\n",
    "\n",
    "bearCapture.dtypes # Show datatypes of columns "
   ]
  },
  {
   "cell_type": "markdown",
   "id": "0fd71542-213b-465a-9ab9-2c0f42756f8c",
   "metadata": {},
   "source": [
    "Note that we want our Date column to have date data type"
   ]
  },
  {
   "cell_type": "code",
   "execution_count": 9,
   "id": "054e652e-aa43-44be-87e0-dd4cce23d797",
   "metadata": {},
   "outputs": [
    {
     "data": {
      "text/plain": [
       "Index(['Bear', 'Sex', 'Age', 'Date ', 'General Location', 'Capture type',\n",
       "       'Release Site', 'Handler', 'Year'],\n",
       "      dtype='object')"
      ]
     },
     "execution_count": 9,
     "metadata": {},
     "output_type": "execute_result"
    }
   ],
   "source": [
    "bearCapture.columns # All columns in the table"
   ]
  },
  {
   "cell_type": "code",
   "execution_count": 10,
   "id": "14bf49e6-d3f5-4170-a08e-67ada8d438a8",
   "metadata": {
    "scrolled": true
   },
   "outputs": [
    {
     "data": {
      "text/plain": [
       "Bear                  0\n",
       "Sex                   0\n",
       "Age                   0\n",
       "Date                  0\n",
       "General Location      1\n",
       "Capture type        186\n",
       "Release Site          0\n",
       "Handler               1\n",
       "Year                  0\n",
       "dtype: int64"
      ]
     },
     "execution_count": 10,
     "metadata": {},
     "output_type": "execute_result"
    }
   ],
   "source": [
    "bearCapture.isna().sum() # Show the empty records and the column that is empty"
   ]
  },
  {
   "cell_type": "markdown",
   "id": "615b9c9d-3fa5-42ac-bf6a-a7795141a0a4",
   "metadata": {},
   "source": [
    "### Year Data"
   ]
  },
  {
   "cell_type": "code",
   "execution_count": 12,
   "id": "ca4d77d1-8bfd-4952-9215-2a7319214311",
   "metadata": {},
   "outputs": [
    {
     "data": {
      "text/html": [
       "<div>\n",
       "<style scoped>\n",
       "    .dataframe tbody tr th:only-of-type {\n",
       "        vertical-align: middle;\n",
       "    }\n",
       "\n",
       "    .dataframe tbody tr th {\n",
       "        vertical-align: top;\n",
       "    }\n",
       "\n",
       "    .dataframe thead th {\n",
       "        text-align: right;\n",
       "    }\n",
       "</style>\n",
       "<table border=\"1\" class=\"dataframe\">\n",
       "  <thead>\n",
       "    <tr style=\"text-align: right;\">\n",
       "      <th></th>\n",
       "      <th>Year</th>\n",
       "    </tr>\n",
       "  </thead>\n",
       "  <tbody>\n",
       "    <tr>\n",
       "      <th>2018</th>\n",
       "      <td>129</td>\n",
       "    </tr>\n",
       "    <tr>\n",
       "      <th>2021</th>\n",
       "      <td>123</td>\n",
       "    </tr>\n",
       "    <tr>\n",
       "      <th>2020</th>\n",
       "      <td>113</td>\n",
       "    </tr>\n",
       "    <tr>\n",
       "      <th>2010</th>\n",
       "      <td>111</td>\n",
       "    </tr>\n",
       "    <tr>\n",
       "      <th>2015</th>\n",
       "      <td>109</td>\n",
       "    </tr>\n",
       "    <tr>\n",
       "      <th>2016</th>\n",
       "      <td>108</td>\n",
       "    </tr>\n",
       "    <tr>\n",
       "      <th>2011</th>\n",
       "      <td>107</td>\n",
       "    </tr>\n",
       "    <tr>\n",
       "      <th>2012</th>\n",
       "      <td>104</td>\n",
       "    </tr>\n",
       "    <tr>\n",
       "      <th>2022</th>\n",
       "      <td>100</td>\n",
       "    </tr>\n",
       "    <tr>\n",
       "      <th>2017</th>\n",
       "      <td>99</td>\n",
       "    </tr>\n",
       "    <tr>\n",
       "      <th>2019</th>\n",
       "      <td>98</td>\n",
       "    </tr>\n",
       "    <tr>\n",
       "      <th>2009</th>\n",
       "      <td>97</td>\n",
       "    </tr>\n",
       "    <tr>\n",
       "      <th>2013</th>\n",
       "      <td>88</td>\n",
       "    </tr>\n",
       "    <tr>\n",
       "      <th>2014</th>\n",
       "      <td>81</td>\n",
       "    </tr>\n",
       "    <tr>\n",
       "      <th>2008</th>\n",
       "      <td>79</td>\n",
       "    </tr>\n",
       "    <tr>\n",
       "      <th>2005</th>\n",
       "      <td>74</td>\n",
       "    </tr>\n",
       "    <tr>\n",
       "      <th>2007</th>\n",
       "      <td>73</td>\n",
       "    </tr>\n",
       "    <tr>\n",
       "      <th>2001</th>\n",
       "      <td>73</td>\n",
       "    </tr>\n",
       "    <tr>\n",
       "      <th>2002</th>\n",
       "      <td>72</td>\n",
       "    </tr>\n",
       "    <tr>\n",
       "      <th>2004</th>\n",
       "      <td>67</td>\n",
       "    </tr>\n",
       "    <tr>\n",
       "      <th>2000</th>\n",
       "      <td>65</td>\n",
       "    </tr>\n",
       "    <tr>\n",
       "      <th>2006</th>\n",
       "      <td>59</td>\n",
       "    </tr>\n",
       "    <tr>\n",
       "      <th>1994</th>\n",
       "      <td>56</td>\n",
       "    </tr>\n",
       "    <tr>\n",
       "      <th>2003</th>\n",
       "      <td>53</td>\n",
       "    </tr>\n",
       "    <tr>\n",
       "      <th>1995</th>\n",
       "      <td>52</td>\n",
       "    </tr>\n",
       "    <tr>\n",
       "      <th>1999</th>\n",
       "      <td>47</td>\n",
       "    </tr>\n",
       "    <tr>\n",
       "      <th>1988</th>\n",
       "      <td>44</td>\n",
       "    </tr>\n",
       "    <tr>\n",
       "      <th>1998</th>\n",
       "      <td>40</td>\n",
       "    </tr>\n",
       "    <tr>\n",
       "      <th>1996</th>\n",
       "      <td>40</td>\n",
       "    </tr>\n",
       "    <tr>\n",
       "      <th>1991</th>\n",
       "      <td>31</td>\n",
       "    </tr>\n",
       "    <tr>\n",
       "      <th>1997</th>\n",
       "      <td>28</td>\n",
       "    </tr>\n",
       "    <tr>\n",
       "      <th>1987</th>\n",
       "      <td>25</td>\n",
       "    </tr>\n",
       "    <tr>\n",
       "      <th>1993</th>\n",
       "      <td>21</td>\n",
       "    </tr>\n",
       "    <tr>\n",
       "      <th>1990</th>\n",
       "      <td>17</td>\n",
       "    </tr>\n",
       "    <tr>\n",
       "      <th>1989</th>\n",
       "      <td>17</td>\n",
       "    </tr>\n",
       "    <tr>\n",
       "      <th>1992</th>\n",
       "      <td>16</td>\n",
       "    </tr>\n",
       "  </tbody>\n",
       "</table>\n",
       "</div>"
      ],
      "text/plain": [
       "      Year\n",
       "2018   129\n",
       "2021   123\n",
       "2020   113\n",
       "2010   111\n",
       "2015   109\n",
       "2016   108\n",
       "2011   107\n",
       "2012   104\n",
       "2022   100\n",
       "2017    99\n",
       "2019    98\n",
       "2009    97\n",
       "2013    88\n",
       "2014    81\n",
       "2008    79\n",
       "2005    74\n",
       "2007    73\n",
       "2001    73\n",
       "2002    72\n",
       "2004    67\n",
       "2000    65\n",
       "2006    59\n",
       "1994    56\n",
       "2003    53\n",
       "1995    52\n",
       "1999    47\n",
       "1988    44\n",
       "1998    40\n",
       "1996    40\n",
       "1991    31\n",
       "1997    28\n",
       "1987    25\n",
       "1993    21\n",
       "1990    17\n",
       "1989    17\n",
       "1992    16"
      ]
     },
     "execution_count": 12,
     "metadata": {},
     "output_type": "execute_result"
    }
   ],
   "source": [
    "pd.DataFrame(bearCapture['Year'].value_counts()) # Bears captured per year"
   ]
  },
  {
   "cell_type": "code",
   "execution_count": null,
   "id": "2662dd4c-914f-474c-a7d7-9807c9add0d9",
   "metadata": {},
   "outputs": [],
   "source": [
    "bearCapture.hist() # Graph of bears captures per year"
   ]
  },
  {
   "cell_type": "markdown",
   "id": "85f62eb6-5a06-45c6-9ce9-f2d5196a6c86",
   "metadata": {},
   "source": [
    "### General Location Data"
   ]
  },
  {
   "cell_type": "code",
   "execution_count": null,
   "id": "fe1c0506-1b68-4f09-8ba5-5dd7a3579be9",
   "metadata": {},
   "outputs": [],
   "source": [
    "pd.DataFrame(bearCapture['General Location'].value_counts()) # Count of all locations"
   ]
  },
  {
   "cell_type": "code",
   "execution_count": null,
   "id": "d55b6212-8384-4e34-8ee5-7e5d91238cac",
   "metadata": {},
   "outputs": [],
   "source": [
    "pd.DataFrame(bearCapture[\"General Location\"].str.contains(\"South Fork Shoshone\").value_counts()) # Finding total number of records that contain South Fork Shoshone in General Location"
   ]
  },
  {
   "cell_type": "markdown",
   "id": "8fd523d8-6af4-4dc2-95e2-30dc2e0b9841",
   "metadata": {},
   "source": [
    "We can see there are many locations that are used and some of this disparity are the abbreviations after certain locations, for instance South Fork Shoshone. We can see that there are a total of 59 items that contain South Fork Shoshone as the general location, but only 41 contain South Fork Shoshone, Pr-WY. This is important to note. "
   ]
  },
  {
   "cell_type": "code",
   "execution_count": null,
   "id": "62860ddb-8424-43a9-b034-a6b418bade08",
   "metadata": {},
   "outputs": [],
   "source": [
    "pd.DataFrame(bearCapture['General Location'].value_counts()).plot(kind='bar', figsize=(80,10))"
   ]
  },
  {
   "cell_type": "markdown",
   "id": "3f1e303c-2069-4f59-b376-d2fb87155f3d",
   "metadata": {},
   "source": [
    "### Handler Data\n",
    "\n",
    "We can see that WYGFD makes up the greatest majority even collaborating with some other organizations, but they seem to handle most of these captures indepenently. \n",
    "\n",
    "**Note**: WTGF seems to be some sort of error as there is no listed meaning to the abbreviation, for this reason this data should be ommitted "
   ]
  },
  {
   "cell_type": "code",
   "execution_count": null,
   "id": "17f6c8dd-046c-4b35-8ad3-77e491571762",
   "metadata": {},
   "outputs": [],
   "source": [
    "pd.DataFrame(bearCapture['Handler'].value_counts()) # Analayzing handler data"
   ]
  },
  {
   "cell_type": "code",
   "execution_count": null,
   "id": "5c5979a7-6bfa-40bd-8ab6-e446b3e9dbef",
   "metadata": {},
   "outputs": [],
   "source": [
    "pd.DataFrame(bearCapture['Handler'].value_counts()).plot(kind='bar', figsize=(20,10)) # Visual Representation of handler captures"
   ]
  },
  {
   "cell_type": "code",
   "execution_count": null,
   "id": "2e7db9e6-c243-4f21-a908-ef32e25c285e",
   "metadata": {},
   "outputs": [],
   "source": [
    "bearCapture[bearCapture['Handler']=='ws'] # Finding data that needs to be changed"
   ]
  },
  {
   "cell_type": "markdown",
   "id": "da48a8a5-8ee9-4c50-88f1-49173730cd32",
   "metadata": {},
   "source": [
    "Need to change ws to WS"
   ]
  },
  {
   "cell_type": "code",
   "execution_count": null,
   "id": "fc6e49ac-ace0-4ee6-acb4-838ff55e2337",
   "metadata": {},
   "outputs": [],
   "source": [
    "bearCapture[bearCapture['Handler']=='YNP'] # Records when handler is YNP"
   ]
  },
  {
   "cell_type": "markdown",
   "id": "0cf9ae4f-836a-4739-9039-7576baf0584c",
   "metadata": {},
   "source": [
    "#### Year Data with Handler"
   ]
  },
  {
   "cell_type": "code",
   "execution_count": null,
   "id": "48b93c26-e220-4be1-b888-7fd6c8b1c7b5",
   "metadata": {},
   "outputs": [],
   "source": [
    "wygfdCapture = bearCapture[bearCapture[\"Handler\"] == \"WYGFD\"] # Records with handler WYGFD\n",
    "\n",
    "pd.DataFrame(wygfdCapture['Year'].value_counts()) # Count per year"
   ]
  },
  {
   "cell_type": "markdown",
   "id": "2ce85cd6-0ecc-4427-8dac-c632b15959ba",
   "metadata": {},
   "source": [
    "#### Handler and General Location"
   ]
  },
  {
   "cell_type": "code",
   "execution_count": null,
   "id": "de973ca5-8251-486e-b97b-a9c1aaebf891",
   "metadata": {},
   "outputs": [],
   "source": [
    "gibbonRiverCapture = bearCapture[bearCapture[\"General Location\"] == \"Gibbon River, YNP\"] # Records with handler General Location Gibbon River, YNP\n",
    "\n",
    "pd.DataFrame(gibbonRiverCapture['Handler'].value_counts()) # Handler count for Gibbon River, YNP"
   ]
  },
  {
   "cell_type": "code",
   "execution_count": null,
   "id": "72600047-10a3-4291-b822-34d55c8a7041",
   "metadata": {},
   "outputs": [],
   "source": [
    "cascadeCrkCapture = bearCapture[bearCapture[\"General Location\"] == \"Cascade Crk, YNP\"] # Records with handler General Location Cascade Crk, YNP\n",
    "\n",
    "pd.DataFrame(cascadeCrkCapture['Handler'].value_counts()) # Handler count for Cascade Crk, YNP"
   ]
  },
  {
   "cell_type": "code",
   "execution_count": null,
   "id": "56e21bd9-49aa-4d4d-9f4d-946081bcb354",
   "metadata": {},
   "outputs": [],
   "source": [
    "sForkShoshoneCapture = bearCapture[bearCapture[\"General Location\"] == \"South Fork Shoshone, Pr-WY\"] # Records with General Location South Fork Shoshone Pr-WY\n",
    "\n",
    "pd.DataFrame(sForkShoshoneCapture['Handler'].value_counts()) # Handler count for South Fork Shoshone Pr-WY"
   ]
  },
  {
   "cell_type": "code",
   "execution_count": null,
   "id": "44a0ad6c-9735-4f64-bdb8-39370a90195c",
   "metadata": {},
   "outputs": [],
   "source": [
    "antelopeCrkCapture = bearCapture[bearCapture[\"General Location\"] == \"Antelope Crk, YNP\"] # Records with handler General Location Antelope Crk, YNP\n",
    "\n",
    "pd.DataFrame(antelopeCrkCapture['Handler'].value_counts()) # Handler count for Antelope Crk, YNP"
   ]
  },
  {
   "cell_type": "code",
   "execution_count": null,
   "id": "c8fdf3b6-7db0-4063-9e67-fb607cfb3495",
   "metadata": {},
   "outputs": [],
   "source": [
    "stephensCrkCapture = bearCapture[bearCapture[\"General Location\"] == \"Stephens Crk, YNP\"] # Records with handler General Location Stephens Crk, YNP\n",
    "\n",
    "pd.DataFrame(stephensCrkCapture['Handler'].value_counts()) # Handler count for Stephens Crk, YNP"
   ]
  },
  {
   "cell_type": "markdown",
   "id": "1aba9c42-5915-4827-bddd-8ecd9bb32382",
   "metadata": {},
   "source": [
    "Interesting enough many of the general locations where captures most frequently happend were conducted by IGFD, not WYGFD even though WYGFD makes up the most captures, but keep in mine the most frequented location, Gibbon River, YNP, accounts for just 62 of the captures."
   ]
  },
  {
   "cell_type": "markdown",
   "id": "af18ab0d-0f44-4e48-a3f2-c61eeb4bf47d",
   "metadata": {},
   "source": [
    "### Release Site Data\n",
    "\n",
    "We can see that many of the bears are released on the same site that they are captured, but a good amount of them are removed. \n",
    "\n",
    "Also note that there are removal numbers for bears removed between 2022-2017."
   ]
  },
  {
   "cell_type": "code",
   "execution_count": null,
   "id": "8e7e3731-5041-4195-a20c-f4767e88ed51",
   "metadata": {},
   "outputs": [],
   "source": [
    "pd.DataFrame(wygfdCapture['Release Site'].value_counts())"
   ]
  },
  {
   "cell_type": "code",
   "execution_count": null,
   "id": "b31eec8c-210b-49a4-abf6-bfb310dfd499",
   "metadata": {},
   "outputs": [],
   "source": [
    "pd.DataFrame(bearCapture[\"Release Site\"].str.contains(\"Removed\").value_counts()) # Finding total number of records that contain Removed"
   ]
  },
  {
   "cell_type": "code",
   "execution_count": null,
   "id": "1ba975dc-a495-4bb8-b223-d94dcd4f3241",
   "metadata": {},
   "outputs": [],
   "source": [
    "removedCapture = bearCapture[bearCapture[\"Release Site\"].str.contains(\"Removed\")] # Records where bears were removed\n",
    "\n",
    "pd.DataFrame(removedCapture['Year'].value_counts())"
   ]
  },
  {
   "cell_type": "markdown",
   "id": "7dcc82b5-866d-469a-963a-96428c0e9a2a",
   "metadata": {},
   "source": [
    "### Sex of Bear Data\n",
    "\n",
    "We can see that the majority of the bears captured are male."
   ]
  },
  {
   "cell_type": "code",
   "execution_count": null,
   "id": "cd704702-d7e8-4346-835a-71e0056b8d8a",
   "metadata": {},
   "outputs": [],
   "source": [
    "pd.DataFrame(bearCapture['Sex'].value_counts()) # Count for sex of bears"
   ]
  },
  {
   "cell_type": "code",
   "execution_count": null,
   "id": "ef4c8bf9-fb19-46b4-b779-8ffc65243f86",
   "metadata": {},
   "outputs": [],
   "source": [
    "maleCapture = bearCapture[bearCapture[\"Sex\"].str.contains(\"Male\")] # Records where the Sex is Male\n",
    "\n",
    "pd.DataFrame(maleCapture['Year'].value_counts()) # Number of records where the Sex is Male each Year"
   ]
  },
  {
   "cell_type": "code",
   "execution_count": null,
   "id": "13dcd996-1022-4997-949f-cc954bd8ac31",
   "metadata": {},
   "outputs": [],
   "source": [
    "pd.DataFrame(maleCapture['General Location'].value_counts()) # Number of records where the Sex is Male by General Location"
   ]
  },
  {
   "cell_type": "code",
   "execution_count": null,
   "id": "d0a2c88b-072b-4394-834e-1e206f4f3a77",
   "metadata": {},
   "outputs": [],
   "source": [
    "femaleCapture = bearCapture[bearCapture[\"Sex\"].str.contains(\"Female\")] # Number of records where the Sex is Female\n",
    "\n",
    "pd.DataFrame(femaleCapture['Year'].value_counts()) # Number of records where the Sex is Female each Year"
   ]
  },
  {
   "cell_type": "code",
   "execution_count": null,
   "id": "4293d30a-c3dd-4eae-9d58-244fb94a792c",
   "metadata": {},
   "outputs": [],
   "source": [
    "pd.DataFrame(femaleCapture['General Location'].value_counts()) # Number of records where the Sex is Female by General Location"
   ]
  },
  {
   "cell_type": "markdown",
   "id": "f987b416-a268-4e96-918f-e6411c612d1e",
   "metadata": {},
   "source": [
    "### Age Data\n",
    "\n",
    "Note that from 1987 - 1997 some of the bears have actual ages listed"
   ]
  },
  {
   "cell_type": "code",
   "execution_count": null,
   "id": "bd1db3c5-9f57-4103-a791-3baf3094ab87",
   "metadata": {},
   "outputs": [],
   "source": [
    "pd.DataFrame(bearCapture['Age'].value_counts()) # Count for age of bears"
   ]
  },
  {
   "cell_type": "markdown",
   "id": "aafe5ba4-45ca-4a78-b704-4fd04b29c360",
   "metadata": {},
   "source": [
    "## Conclusions\n",
    "\n",
    "I would be interested in splitting up the month, date, and year in order to get analytics on bears captures each month. Also for bears with adges, classifying them as adult, subadult, yearling, COY in order to get more accurate data that is consistent. Another thing to consider is splitting up both the General Location and Release Site data to mainly include the main location, i.e. South Fork Shoshone instead of South Fork Shoshone, Pr-WY, and notating the Pr-WY in another column. Figuring out bears captures on private land would also be useful information. "
   ]
  }
 ],
 "metadata": {
  "kernelspec": {
   "display_name": "Python 3 (ipykernel)",
   "language": "python",
   "name": "python3"
  },
  "language_info": {
   "codemirror_mode": {
    "name": "ipython",
    "version": 3
   },
   "file_extension": ".py",
   "mimetype": "text/x-python",
   "name": "python",
   "nbconvert_exporter": "python",
   "pygments_lexer": "ipython3",
   "version": "3.9.6"
  }
 },
 "nbformat": 4,
 "nbformat_minor": 5
}
