{
 "cells": [
  {
   "cell_type": "markdown",
   "id": "9ef728c9-8605-462b-8b43-63cc5fe298c6",
   "metadata": {},
   "source": [
    "# Interagency Grizzly Bear Study Team - Yellowstone Grizzly Bear Investigations"
   ]
  },
  {
   "cell_type": "markdown",
   "id": "bcb7c063-2a1a-4d22-9368-347716502f08",
   "metadata": {},
   "source": [
    "All of this data is from the <a href=\"https://igbconline.org/grizzly-bear-study-team/\">Interagency Grizzly Bear Study Team (IGBST)</a>. These annual reports are summaries are the results of grizzly bear research and monitoring in the Great Yellowstone Ecosystem (GYE) by the Interagency Grizzly Bear Study Team. The annual reports start in 1997 and the most recently published report the investigation from 2022.\n",
    "\n",
    "The first step of analyzing this data was taking screen shots of the tables found in \"Bear Monitoring and Population Trend\" specifically Table 1 and Table 3. Table 1 highlights all of the grizzly bears captured in the GYE for that year and consists of the bear's identification, sex, age, date it was captured, general location of the capture, capture, type, relase site, and which organization handled the capture. Table 2 highlights all of the bears radiomonitored, any offspring of note, and whether the radiomonitor is still opporational. To populate a data set I first needed to get the data into a csv file. I did this by taking screenshots of the table and using Excel to export the data from the screenshots. There was some manual cleanup and verifcation that needed to happen in Excel before being able to export it to a csv and explore the data more. The CSV files in this folder is the result of that initial cleanup."
   ]
  },
  {
   "cell_type": "code",
   "execution_count": null,
   "id": "8a6f5d35-c4d3-4c37-a107-c11d212292c2",
   "metadata": {},
   "outputs": [],
   "source": []
  }
 ],
 "metadata": {
  "kernelspec": {
   "display_name": "Python 3 (ipykernel)",
   "language": "python",
   "name": "python3"
  },
  "language_info": {
   "codemirror_mode": {
    "name": "ipython",
    "version": 3
   },
   "file_extension": ".py",
   "mimetype": "text/x-python",
   "name": "python",
   "nbconvert_exporter": "python",
   "pygments_lexer": "ipython3",
   "version": "3.11.5"
  }
 },
 "nbformat": 4,
 "nbformat_minor": 5
}
